{
 "cells": [
  {
   "cell_type": "code",
   "execution_count": 1,
   "metadata": {},
   "outputs": [],
   "source": [
    "import time\n",
    "import matplotlib\n",
    "from matplotlib import animation\n",
    "from mpl_toolkits.mplot3d import Axes3D\n",
    "import scipy.io as sio\n",
    "\n",
    "import matplotlib.pyplot as plt\n",
    "import numpy as np\n",
    "\n",
    "# Enable interactive figures for latest versions of Jupyter Lab, with 'jupyter-matplotlib' 'widgetsnbextension' installed and activated.\n",
    "#%matplotlib widget\n",
    "# If no figure is showing, replace with\n",
    "%matplotlib inline"
   ]
  },
  {
   "cell_type": "code",
   "execution_count": 2,
   "metadata": {},
   "outputs": [],
   "source": [
    "# Time step of the data\n",
    "dT = 0.05\n",
    "\n",
    "Data_tensor = sio.loadmat('data/reaction_diffusion.mat')['Data_u']\n",
    "Data_flat = Data_tensor.reshape((-1, Data_tensor.shape[2]), order='F')\n",
    "X = Data_flat[:, 0:-1]\n",
    "Xprime = Data_flat[:, 1:]"
   ]
  },
  {
   "cell_type": "code",
   "execution_count": 3,
   "metadata": {},
   "outputs": [
    {
     "data": {
      "application/vnd.jupyter.widget-view+json": {
       "model_id": "645ad61ecc474ce6a98a8a9d03a26a11",
       "version_major": 2,
       "version_minor": 0
      },
      "text/plain": [
       "Canvas(toolbar=Toolbar(toolitems=[('Home', 'Reset original view', 'home', 'home'), ('Back', 'Back to previous …"
      ]
     },
     "metadata": {},
     "output_type": "display_data"
    }
   ],
   "source": [
    "# Compute the SVD of the data\n",
    "U, S, Vh = np.linalg.svd(X, full_matrices=False)\n",
    "V = Vh.T\n",
    "S_norm = S / sum(S)\n",
    "\n",
    "fig, (ax1, ax2) = plt.subplots(1, 2, figsize=(10, 5))\n",
    "ax1.grid()\n",
    "ax1.set_title('Normalized singular values')\n",
    "ax1.set_xlabel('Singular Value #')\n",
    "ax1.scatter(range(1, 21), S_norm[0:20])\n",
    "\n",
    "ax2.grid()\n",
    "ax2.set_title('Cumulative energy')\n",
    "ax2.set_xlabel('Singular Value #')\n",
    "ax2.scatter(range(1, 21), np.cumsum(S_norm)[0:20])\n",
    "plt.savefig('figs/RD_svd.png')"
   ]
  },
  {
   "cell_type": "code",
   "execution_count": 4,
   "metadata": {},
   "outputs": [],
   "source": [
    "# Rank truncation at r=10\n",
    "r = 10\n",
    "Ur = U[:, 0:r]\n",
    "Sigmar = np.diag(S[0:r])\n",
    "Vr = V[:, 0:r]"
   ]
  },
  {
   "cell_type": "code",
   "execution_count": 5,
   "metadata": {},
   "outputs": [],
   "source": [
    "# Reconstruct the data via truncated SVD\n",
    "X_r = Ur @ Sigmar @ Vr.T.conj()\n",
    "Data_r_tensor = X_r.reshape((512, 512, -1), order='F')\n",
    "\n",
    "vmin = Data_flat.flatten().min()\n",
    "vmax = Data_flat.flatten().max()"
   ]
  },
  {
   "cell_type": "code",
   "execution_count": 6,
   "metadata": {},
   "outputs": [
    {
     "data": {
      "application/vnd.jupyter.widget-view+json": {
       "model_id": "7de059e870404f89b9229c5db7ca46ff",
       "version_major": 2,
       "version_minor": 0
      },
      "text/plain": [
       "Canvas(toolbar=Toolbar(toolitems=[('Home', 'Reset original view', 'home', 'home'), ('Back', 'Back to previous …"
      ]
     },
     "metadata": {},
     "output_type": "display_data"
    }
   ],
   "source": [
    "# Plot a comparison between the reconstructed data and the original data\n",
    "# from IPython.display import HTML\n",
    "# from matplotlib import rc\n",
    "\n",
    "xx, yy = np.meshgrid(range(0, 512), range(0, 512))\n",
    "fig, (ax1, ax2) = plt.subplots(1, 2, figsize=(13, 5))\n",
    "fig.suptitle('Reaction-diffusion system')\n",
    "map1 = ax1.imshow(Data_tensor[:, :, 0], vmin=vmin, vmax=vmax, origin='lower')\n",
    "ax1.set_title('Real data')\n",
    "ax1.set_xlabel('x')\n",
    "ax1.set_ylabel('y')\n",
    "map2 = ax2.imshow(Data_r_tensor[:, :, 0], vmin=vmin, vmax=vmax, origin='lower')\n",
    "ax2.set_title('Reconstructed data')\n",
    "ax2.set_xlabel('x')\n",
    "ax2.set_ylabel('y')\n",
    "\n",
    "fig.subplots_adjust(right=0.85)\n",
    "cbar_ax = fig.add_axes([0.875, 0.125, 0.03, 0.75])\n",
    "fig.colorbar(map2, cax=cbar_ax)\n",
    "\n",
    "\n",
    "# function to update figure\n",
    "def updatefig(j):\n",
    "    fig.get_axes()[0].get_images()[0].set_data(Data_tensor[:, :, j])\n",
    "    fig.get_axes()[1].get_images()[0].set_data(Data_r_tensor[:, :, j])\n",
    "    return fig\n",
    "\n",
    "# Save the animation as an MP4 file\n",
    "Writer = animation.writers['ffmpeg']\n",
    "writer = Writer(fps=15, metadata=dict(artist='Me'), bitrate=1800)\n",
    "anim = animation.FuncAnimation(fig, updatefig, frames=range(Data_tensor.shape[2]-1), interval=0.3, blit=False)\n",
    "\n",
    "anim.save('RD_reconstruction.mp4', writer=writer)"
   ]
  },
  {
   "cell_type": "code",
   "execution_count": 7,
   "metadata": {},
   "outputs": [
    {
     "data": {
      "application/vnd.jupyter.widget-view+json": {
       "model_id": "b464000973814c35a2188e8b0dacc145",
       "version_major": 2,
       "version_minor": 0
      },
      "text/plain": [
       "Canvas(toolbar=Toolbar(toolitems=[('Home', 'Reset original view', 'home', 'home'), ('Back', 'Back to previous …"
      ]
     },
     "metadata": {},
     "output_type": "display_data"
    }
   ],
   "source": [
    "Modes_tensor = Ur[:, 0:4].reshape((512, 512, -1), order='F')\n",
    "fig, axs = plt.subplots(1, 4, figsize=(18, 4))\n",
    "for i in range(0, 4):\n",
    "    mmap = axs[i].imshow(Modes_tensor[:, :, i], origin='lower')\n",
    "    axs[i].set_title('Mode {}'.format(i+1))\n",
    "    axs[i].set_xlabel('x')\n",
    "    axs[i].set_ylabel('y')\n",
    "plt.savefig('figs/RD_modes.png')"
   ]
  },
  {
   "cell_type": "code",
   "execution_count": 8,
   "metadata": {},
   "outputs": [],
   "source": [
    "# DMD\n",
    "A_tilde = Ur.conj().T @ Xprime @ Vr @ np.linalg.inv(Sigmar)\n",
    "\n",
    "Lambda, W = np.linalg.eig(A_tilde)\n",
    "Phi = Xprime @ Vr @ np.linalg.inv(Sigmar) @ W\n",
    "omega = np.log(Lambda) / dT\n",
    "B = np.linalg.pinv(Phi) @ X[:, 0]"
   ]
  },
  {
   "cell_type": "code",
   "execution_count": 9,
   "metadata": {},
   "outputs": [
    {
     "data": {
      "application/vnd.jupyter.widget-view+json": {
       "model_id": "eed61817190f464f8f23d94661b0f4af",
       "version_major": 2,
       "version_minor": 0
      },
      "text/plain": [
       "Canvas(toolbar=Toolbar(toolitems=[('Home', 'Reset original view', 'home', 'home'), ('Back', 'Back to previous …"
      ]
     },
     "metadata": {},
     "output_type": "display_data"
    }
   ],
   "source": [
    "# Plot the eigenvalues\n",
    "from sklearn.metrics import mean_squared_error\n",
    "\n",
    "figx, ax = plt.subplots(1, 1, figsize=(6, 5))\n",
    "ax.scatter(np.real(omega), np.imag(omega))\n",
    "ax.set_title('DMD Eigenvalues')\n",
    "ax.set_xlabel('Real')\n",
    "ax.set_ylabel('Imaginary')\n",
    "ax.grid()\n",
    "plt.savefig('figs/RD_DMD_eigenvalues.png')"
   ]
  },
  {
   "cell_type": "code",
   "execution_count": 10,
   "metadata": {},
   "outputs": [
    {
     "data": {
      "application/vnd.jupyter.widget-view+json": {
       "model_id": "6ba14439d588442296248c4d8fa4bea8",
       "version_major": 2,
       "version_minor": 0
      },
      "text/plain": [
       "Canvas(toolbar=Toolbar(toolitems=[('Home', 'Reset original view', 'home', 'home'), ('Back', 'Back to previous …"
      ]
     },
     "metadata": {},
     "output_type": "display_data"
    }
   ],
   "source": [
    "# Compute and plot the MSE\n",
    "t = np.linspace(0, dT * Data_tensor.shape[2], Data_tensor.shape[2])\n",
    "\n",
    "Data_pred_flat = np.real([sum([Phi[:, k] * np.exp(omega[k] * tau) * B[k] for k in range(0, B.shape[0])]) for tau in t]).T\n",
    "\n",
    "MSE_flat = np.sqrt(np.square(Data_flat - Data_pred_flat).mean(axis=0))\n",
    "\n",
    "fig, ax = plt.subplots(1, 1, figsize=(6, 5))\n",
    "ax.plot(t, MSE_flat)\n",
    "ax.set_xlabel('Time [s]')\n",
    "ax.set_ylabel('RMSE')\n",
    "ax.set_title('DMD prediction RMSE')\n",
    "ax.grid()\n",
    "plt.savefig('figs/RD_DMD_RMSE.png')\n"
   ]
  },
  {
   "cell_type": "code",
   "execution_count": 11,
   "metadata": {},
   "outputs": [
    {
     "data": {
      "application/vnd.jupyter.widget-view+json": {
       "model_id": "9ced56fc46744deeb03c4b9dddf7a2eb",
       "version_major": 2,
       "version_minor": 0
      },
      "text/plain": [
       "Canvas(toolbar=Toolbar(toolitems=[('Home', 'Reset original view', 'home', 'home'), ('Back', 'Back to previous …"
      ]
     },
     "metadata": {},
     "output_type": "display_data"
    }
   ],
   "source": [
    "Data_predicted_tensor = Data_pred_flat.reshape((512, 512, -1), order='F')\n",
    "\n",
    "xx, yy = np.meshgrid(range(0, 512), range(0, 512))\n",
    "fig, (ax1, ax2) = plt.subplots(1, 2, figsize=(13, 5))\n",
    "fig.suptitle('Reaction-diffusion system')\n",
    "map1 = ax1.imshow(Data_tensor[:, :, 0], vmin=vmin, vmax=vmax, origin='lower')\n",
    "ax1.set_title('Real')\n",
    "ax1.set_xlabel('x')\n",
    "ax1.set_ylabel('y')\n",
    "map2 = ax2.imshow(Data_predicted_tensor[:, :, 0], vmin=vmin, vmax=vmax, origin='lower')\n",
    "ax2.set_title('DMD prediction')\n",
    "ax2.set_xlabel('x')\n",
    "ax2.set_ylabel('y')\n",
    "\n",
    "fig.subplots_adjust(right=0.85)\n",
    "cbar_ax = fig.add_axes([0.875, 0.125, 0.03, 0.75])\n",
    "fig.colorbar(map2, cax=cbar_ax)\n",
    "\n",
    "\n",
    "# function to update figure\n",
    "def updatefig2(j):\n",
    "    fig.get_axes()[0].get_images()[0].set_data(Data_tensor[:, :, j])\n",
    "    fig.get_axes()[1].get_images()[0].set_data(Data_predicted_tensor[:, :, j])\n",
    "    return fig\n",
    "\n",
    "# Save the animation as an MP4 file\n",
    "Writer = animation.writers['ffmpeg']\n",
    "writer = Writer(fps=15, metadata=dict(artist='Me'), bitrate=1800)\n",
    "anim2 = animation.FuncAnimation(fig, updatefig2, frames=range(Data_tensor.shape[2]-1), interval=0.3, blit=False)\n",
    "\n",
    "anim2.save('RD_DMD_prediction.mp4', writer=writer)"
   ]
  }
 ],
 "metadata": {
  "kernelspec": {
   "display_name": "Python 3",
   "language": "python",
   "name": "python3"
  },
  "language_info": {
   "codemirror_mode": {
    "name": "ipython",
    "version": 3
   },
   "file_extension": ".py",
   "mimetype": "text/x-python",
   "name": "python",
   "nbconvert_exporter": "python",
   "pygments_lexer": "ipython3",
   "version": "3.7.6"
  }
 },
 "nbformat": 4,
 "nbformat_minor": 4
}
